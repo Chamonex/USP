{
  "cells": [
    {
      "cell_type": "code",
      "execution_count": null,
      "metadata": {
        "colab": {
          "base_uri": "https://localhost:8080/"
        },
        "id": "U4gALk4mGB5L",
        "outputId": "ea546ee3-a7d4-4b62-8bd0-e1c911b5577f"
      },
      "outputs": [
        {
          "name": "stdout",
          "output_type": "stream",
          "text": [
            "Collecting pyscipopt\n",
            "  Downloading pyscipopt-5.5.0-cp312-cp312-manylinux_2_28_x86_64.whl.metadata (5.9 kB)\n",
            "Requirement already satisfied: numpy>=1.16.0 in /usr/local/lib/python3.12/dist-packages (from pyscipopt) (2.0.2)\n",
            "Downloading pyscipopt-5.5.0-cp312-cp312-manylinux_2_28_x86_64.whl (15.4 MB)\n",
            "\u001b[2K   \u001b[90m━━━━━━━━━━━━━━━━━━━━━━━━━━━━━━━━━━━━━━━━\u001b[0m \u001b[32m15.4/15.4 MB\u001b[0m \u001b[31m64.9 MB/s\u001b[0m eta \u001b[36m0:00:00\u001b[0m\n",
            "\u001b[?25hInstalling collected packages: pyscipopt\n",
            "Successfully installed pyscipopt-5.5.0\n"
          ]
        }
      ],
      "source": [
        "#%pip install pyscipopt #esta linha deve ser comentada para execução no run.codes"
      ]
    },
    {
      "cell_type": "code",
      "execution_count": null,
      "metadata": {
        "id": "gV-uLhA1FQBL"
      },
      "outputs": [],
      "source": [
        "from pyscipopt import Model"
      ]
    },
    {
      "cell_type": "code",
      "execution_count": null,
      "metadata": {
        "colab": {
          "base_uri": "https://localhost:8080/"
        },
        "id": "bS8BGQ0MF3iQ",
        "outputId": "188328ce-d9f5-460a-f58b-708ede8864ee"
      },
      "outputs": [
        {
          "name": "stdout",
          "output_type": "stream",
          "text": [
            "x: 1.0\n",
            "y: 1.0\n"
          ]
        }
      ],
      "source": [
        "model = Model(\"Example\")  # model name is optional\n",
        "\n",
        "# addVar(name='', vtype='C', lb=0.0, ub=None, obj=0.0, pricedVar=False, pricedVarScore=1.0)\n",
        "# Create a new variable. Default variable is non-negative and continuous.\n",
        "x = model.addVar(\"x\", vtype=\"BINARY\")\n",
        "y = model.addVar(\"y\", vtype=\"INTEGER\")\n",
        "\n",
        "# setObjective(expr, sense='minimize', clear='true')\n",
        "# Establish the objective function as a linear expression.\n",
        "# Parameters\n",
        "# expr (Expr or float) – the objective function SCIP Expr, or constant value\n",
        "# sense (str, optional) – the objective sense (“minimize” or “maximize”) (Default value = ‘minimize’)\n",
        "# clear (bool, optional) – set all other variables objective coefficient to zero (Default value = ‘true’)\n",
        "model.setObjective(y)\n",
        "\n",
        "# addCons(cons, name='', initial=True, separate=True, enforce=True, check=True, propagate=True, local=False, modifiable=False, dynamic=False, removable=False, stickingatnode=False)\n",
        "# Add a linear or nonlinear constraint.\n",
        "model.addCons(-2*x - y <= -3)\n",
        "\n",
        "#model.setParam(\"display/verblevel\", 0) #este comando é útil para que não seja gerado o log do SCIP\n",
        "\n",
        "model.optimize()\n",
        "\n",
        "sol = model.getBestSol()\n",
        "\n",
        "print(model.getObjVal()) #função objetivo\n",
        "\n",
        "print(\"x: {}\".format(sol[x]))\n",
        "print(\"y: {}\".format(sol[y]))"
      ]
    }
  ],
  "metadata": {
    "colab": {
      "provenance": []
    },
    "kernelspec": {
      "display_name": "Python 3",
      "name": "python3"
    },
    "language_info": {
      "name": "python"
    }
  },
  "nbformat": 4,
  "nbformat_minor": 0
}
