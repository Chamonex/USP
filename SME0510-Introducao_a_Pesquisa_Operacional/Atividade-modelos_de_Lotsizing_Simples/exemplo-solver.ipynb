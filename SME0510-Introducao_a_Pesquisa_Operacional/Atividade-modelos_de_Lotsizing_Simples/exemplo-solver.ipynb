{
  "cells": [
    {
      "cell_type": "code",
      "execution_count": 7,
      "metadata": {
        "colab": {
          "base_uri": "https://localhost:8080/"
        },
        "id": "U4gALk4mGB5L",
        "outputId": "ea546ee3-a7d4-4b62-8bd0-e1c911b5577f"
      },
      "outputs": [
        {
          "name": "stdout",
          "output_type": "stream",
          "text": [
            "Collecting pyscipopt\n",
            "  Downloading pyscipopt-5.6.0-cp313-cp313-win_amd64.whl.metadata (6.6 kB)\n",
            "Requirement already satisfied: numpy>=1.16.0 in c:\\users\\chamo\\appdata\\local\\programs\\python\\python313\\lib\\site-packages (from pyscipopt) (2.2.6)\n",
            "Downloading pyscipopt-5.6.0-cp313-cp313-win_amd64.whl (47.1 MB)\n",
            "   ---------------------------------------- 0.0/47.1 MB ? eta -:--:--\n",
            "   - -------------------------------------- 1.3/47.1 MB 7.9 MB/s eta 0:00:06\n",
            "   --- ------------------------------------ 4.2/47.1 MB 10.9 MB/s eta 0:00:04\n",
            "   ------ --------------------------------- 7.1/47.1 MB 12.0 MB/s eta 0:00:04\n",
            "   -------- ------------------------------- 10.5/47.1 MB 13.0 MB/s eta 0:00:03\n",
            "   ------------ --------------------------- 14.2/47.1 MB 13.8 MB/s eta 0:00:03\n",
            "   -------------- ------------------------- 16.8/47.1 MB 14.2 MB/s eta 0:00:03\n",
            "   ---------------- ----------------------- 19.4/47.1 MB 13.4 MB/s eta 0:00:03\n",
            "   ------------------- -------------------- 22.5/47.1 MB 13.5 MB/s eta 0:00:02\n",
            "   --------------------- ------------------ 25.7/47.1 MB 13.7 MB/s eta 0:00:02\n",
            "   ------------------------ --------------- 28.3/47.1 MB 13.9 MB/s eta 0:00:02\n",
            "   --------------------------- ------------ 32.2/47.1 MB 13.9 MB/s eta 0:00:02\n",
            "   ------------------------------ --------- 36.2/47.1 MB 14.4 MB/s eta 0:00:01\n",
            "   ---------------------------------- ----- 40.4/47.1 MB 14.8 MB/s eta 0:00:01\n",
            "   ------------------------------------ --- 43.0/47.1 MB 14.9 MB/s eta 0:00:01\n",
            "   ---------------------------------------  46.9/47.1 MB 14.8 MB/s eta 0:00:01\n",
            "   ---------------------------------------- 47.1/47.1 MB 14.6 MB/s  0:00:03\n",
            "Installing collected packages: pyscipopt\n",
            "Successfully installed pyscipopt-5.6.0\n",
            "Note: you may need to restart the kernel to use updated packages.\n"
          ]
        }
      ],
      "source": [
        "%pip install pyscipopt"
      ]
    },
    {
      "cell_type": "code",
      "execution_count": 8,
      "metadata": {
        "id": "gV-uLhA1FQBL"
      },
      "outputs": [],
      "source": [
        "from pyscipopt import Model"
      ]
    },
    {
      "cell_type": "code",
      "execution_count": 9,
      "metadata": {
        "colab": {
          "base_uri": "https://localhost:8080/"
        },
        "id": "bS8BGQ0MF3iQ",
        "outputId": "188328ce-d9f5-460a-f58b-708ede8864ee"
      },
      "outputs": [
        {
          "name": "stdout",
          "output_type": "stream",
          "text": [
            "=== RESOLVENDO O PROBLEMA ===\n",
            "Minimizar: y\n",
            "Sujeito a: 2*x + y ≥ 3\n",
            "Onde: x ∈ {0,1} (binária) e y ∈ ℤ+ (inteira não-negativa)\n",
            "\n",
            "=== RESULTADO DA OTIMIZAÇÃO ===\n",
            "Valor da função objetivo: 1.0\n",
            "x (variável binária): 1.0\n",
            "y (variável inteira): 1.0\n",
            "\n",
            "Verificação da restrição 2*x + y ≥ 3:\n",
            "2*1.0 + 1.0 = 3.0 ≥ 3? True\n"
          ]
        }
      ],
      "source": [
        "\"\"\"\n",
        "Exemplo de Programação Inteira Mista usando PySCIPOpt\n",
        "\n",
        "Este código demonstra como resolver um problema simples de otimização com:\n",
        "- Variáveis binárias e inteiras\n",
        "- Função objetivo linear\n",
        "- Restrições lineares\n",
        "\"\"\"\n",
        "\n",
        "# Criação do modelo de otimização\n",
        "model = Model(\"Example\")  # Nome do modelo (opcional)\n",
        "\n",
        "# === DEFINIÇÃO DAS VARIÁVEIS ===\n",
        "# addVar(name='', vtype='C', lb=0.0, ub=None, obj=0.0, pricedVar=False, pricedVarScore=1.0)\n",
        "# Cria uma nova variável. Por padrão, variáveis são não-negativas e contínuas.\n",
        "\n",
        "# Variável binária x (pode assumir apenas valores 0 ou 1)\n",
        "x = model.addVar(\"x\", vtype=\"BINARY\")\n",
        "\n",
        "# Variável inteira y (pode assumir qualquer valor inteiro não-negativo)\n",
        "y = model.addVar(\"y\", vtype=\"INTEGER\")\n",
        "\n",
        "# === DEFINIÇÃO DA FUNÇÃO OBJETIVO ===\n",
        "# setObjective(expr, sense='minimize', clear='true')\n",
        "# Define a função objetivo como uma expressão linear.\n",
        "# Parâmetros:\n",
        "# - expr: expressão da função objetivo ou valor constante\n",
        "# - sense: sentido da otimização (\"minimize\" ou \"maximize\") (padrão: 'minimize')\n",
        "# - clear: zera coeficientes objetivos de outras variáveis (padrão: 'true')\n",
        "\n",
        "# Minimizar y (função objetivo: min y)\n",
        "model.setObjective(y)\n",
        "\n",
        "# === DEFINIÇÃO DAS RESTRIÇÕES ===\n",
        "# addCons(cons, name='', initial=True, separate=True, enforce=True, check=True, ...)\n",
        "# Adiciona uma restrição linear ou não-linear ao modelo.\n",
        "\n",
        "# Restrição: -2*x - y ≤ -3, que pode ser reescrita como: 2*x + y ≥ 3\n",
        "model.addCons(-2*x - y <= -3)\n",
        "\n",
        "# === CONFIGURAÇÃO E OTIMIZAÇÃO ===\n",
        "# Descomenta a linha abaixo para suprimir o log detalhado do SCIP\n",
        "#model.setParam(\"display/verblevel\", 0)\n",
        "\n",
        "# Resolve o problema de otimização\n",
        "print(\"=== RESOLVENDO O PROBLEMA ===\")\n",
        "print(\"Minimizar: y\")\n",
        "print(\"Sujeito a: 2*x + y ≥ 3\")\n",
        "print(\"Onde: x ∈ {0,1} (binária) e y ∈ ℤ+ (inteira não-negativa)\")\n",
        "print()\n",
        "\n",
        "model.optimize()\n",
        "\n",
        "# === RECUPERAÇÃO E EXIBIÇÃO DA SOLUÇÃO ===\n",
        "# getBestSol(): Recupera a melhor solução factível conhecida\n",
        "sol = model.getBestSol()\n",
        "\n",
        "print(\"=== RESULTADO DA OTIMIZAÇÃO ===\")\n",
        "print(f\"Valor da função objetivo: {model.getObjVal()}\")  # Valor ótimo da função objetivo\n",
        "print(f\"x (variável binária): {sol[x]}\")                # Valor ótimo de x\n",
        "print(f\"y (variável inteira): {sol[y]}\")                # Valor ótimo de y\n",
        "\n",
        "# Verificação da solução\n",
        "print(f\"\\nVerificação da restrição 2*x + y ≥ 3:\")\n",
        "print(f\"2*{sol[x]} + {sol[y]} = {2*sol[x] + sol[y]} ≥ 3? {2*sol[x] + sol[y] >= 3}\")"
      ]
    }
  ],
  "metadata": {
    "colab": {
      "provenance": []
    },
    "kernelspec": {
      "display_name": "Python 3",
      "name": "python3"
    },
    "language_info": {
      "codemirror_mode": {
        "name": "ipython",
        "version": 3
      },
      "file_extension": ".py",
      "mimetype": "text/x-python",
      "name": "python",
      "nbconvert_exporter": "python",
      "pygments_lexer": "ipython3",
      "version": "3.13.2"
    }
  },
  "nbformat": 4,
  "nbformat_minor": 0
}
